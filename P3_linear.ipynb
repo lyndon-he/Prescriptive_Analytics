{
 "cells": [
  {
   "cell_type": "markdown",
   "metadata": {},
   "source": [
    "## Step 1: Import PuLP modeler functions"
   ]
  },
  {
   "cell_type": "code",
   "execution_count": 1,
   "metadata": {},
   "outputs": [],
   "source": [
    "from pulp import *\n",
    "import pandas as pd"
   ]
  },
  {
   "cell_type": "markdown",
   "metadata": {},
   "source": [
    "## Step 2: Define a variable using LpProblem to represent the optimization problem\n",
    "\n",
    "- give the variable a name, for examle **probA**\n",
    "- use **LpProblem** class: **LpProblem(name='NoName', sense=1)**. Parameters are explained below:\n",
    "    - **name**:name of the problem used in the output .lp file\n",
    "    - **sense**: type of the LP problem objective. Either LpMinimize (default) or LpMaximize.\n",
    "- **LpProblem** returns an LP problem"
   ]
  },
  {
   "cell_type": "code",
   "execution_count": 2,
   "metadata": {},
   "outputs": [],
   "source": [
    "probA=LpProblem(\"Problem A\",LpMinimize)"
   ]
  },
  {
   "cell_type": "markdown",
   "metadata": {},
   "source": [
    "## Step 3: Define decision variables using LpVariable.dicts\n",
    "- give each decision variable a name, say **xhc** represents the number passengers to fly from Houston to Chicago\n",
    "- use **LpVariable.dicts(name,index, lowBound=None, upBound=None, cat='Continuous')** to create a dictionary of LP variables Parameters are explained below:\n",
    "    - **name**: The prefix to the name of each LP variable created\n",
    "    - **indexs**:A list of strings of the keys to the dictionary of LP variables, and the main part of the variable name itself\n",
    "    - **lowBound**: The lower bound on this variable’s range. Default is negative infinity\n",
    "    - **upBound**: The upper bound on this variable’s range. Default is positive infinity\n",
    "    - **cat**:  The category this variable is in, Integer, Binary or Continuous(default)"
   ]
  },
  {
   "cell_type": "code",
   "execution_count": 3,
   "metadata": {},
   "outputs": [
    {
     "data": {
      "text/plain": [
       "{'Month1': {'1': x_Month1_1,\n",
       "  '2': x_Month1_2,\n",
       "  '3': x_Month1_3,\n",
       "  '4': x_Month1_4,\n",
       "  '5': x_Month1_5},\n",
       " 'Month2': {'1': x_Month2_1,\n",
       "  '2': x_Month2_2,\n",
       "  '3': x_Month2_3,\n",
       "  '4': x_Month2_4},\n",
       " 'Month3': {'1': x_Month3_1, '2': x_Month3_2, '3': x_Month3_3},\n",
       " 'Month4': {'1': x_Month4_1, '2': x_Month4_2},\n",
       " 'Month5': {'1': x_Month5_1}}"
      ]
     },
     "execution_count": 3,
     "metadata": {},
     "output_type": "execute_result"
    }
   ],
   "source": [
    "#Constraint and Decision Variable\n",
    "Starting_month = [\"Month1\",\"Month2\",\"Month3\",\"Month4\",\"Month5\"]\n",
    "Length_of_lease = [\"1\",\"2\",\"3\",\"4\",\"5\"]\n",
    "Demand = [25,10,20,10,5]\n",
    "Demand = dict(zip(Starting_month,Demand))\n",
    "Cost = [300,525,775,850,975]\n",
    "Cost = makeDict([Length_of_lease],Cost)\n",
    "\n",
    "#Define decision variables with the starting month and lease length. \n",
    "#Starting from month 1, we have leases with 5 length. From month 2, we have 4. ... From month 5, we have only 1. \n",
    "for i in range(len(Starting_month)):\n",
    "    if i==0:\n",
    "        Space_lease_vars = LpVariable.dicts(\"x\",(Starting_month[i:i+1],Length_of_lease[0:5-i]),lowBound=0,cat='Continuous')\n",
    "    else:\n",
    "        Space_lease_vars.update(LpVariable.dicts(\"x\",(Starting_month[i:i+1],Length_of_lease[0:5-i]),lowBound=0,cat='Continuous'))\n",
    "\n",
    "Space_lease_vars"
   ]
  },
  {
   "cell_type": "markdown",
   "metadata": {},
   "source": [
    "## Step 4: Define objective and constraints using += operator and lpSum\n",
    "- **lpSum(vector)** calculates the sum of a list of linear expressions. \n",
    "- The parameter is a list of linear expressions\n",
    "\n",
    "- **Constraints**: (Cover space requirement of each month)\n",
    "- x_month1_1 + x_month1_2 + x_month1_3 + x_month1_4 + x_month1_5 >= 25\n",
    "- x_month1_2 + x_month1_3 + x_month1_4 + x_month1_5 + x_month2_1 + x_month2_2 + x_month2_3 + x_month2_4 >= 10\n",
    "- x_month1_3 + x_month1_4 + x_month1_5 + x_month2_2 + x_month2_3+ x_month2_4 + x_month3_1 + x_month3_2 + x_month3_3 >= 20\n",
    "- x_month1_4 + x_month1_5 + x_month2_3 + x_month2_4 + x_month3_2 + x_month3_3 + x_month4_1 + x_month4_2 >= 10\n",
    "- x_month1_5 + x_month2_4 + x_month3_3 + x_month4_2 + x_month5_1 >= 5\n",
    "\n",
    "<img src=\"Picture1.png\">"
   ]
  },
  {
   "cell_type": "code",
   "execution_count": 4,
   "metadata": {},
   "outputs": [],
   "source": [
    "#Objective Function\n",
    "\n",
    "probA+=lpSum(Space_lease_vars[Starting_month[i]][j]*Cost[j] for i in range(len(Starting_month)) for j in Length_of_lease[0:5-i])\n",
    "#Minimize the total cost of all the leases. \n",
    "\n",
    "#Demand constraint\n",
    "for i in range(len(Starting_month)):\n",
    "    probA += lpSum(Space_lease_vars[Starting_month[j]][Length_of_lease[k]] for j in range(i+1) for k in range(i-j,5-j) ) >= Demand[Starting_month[i]]\n",
    "# range(i+1) describes how many months we need to consider in each starting month (all the months before). \n",
    "# range (i-j,5-j) describes what are the leases we need to look at.\n",
    "#For each starting month i, we keep all the lease that start from this month and other leases that cover this month. \n",
    "#For example, in month 1, we keep all the lease starting from month 1. Which is: x_month1_1 + x_month1_2 + x_month1_3 + x_month1_4 + x_month1_5\n",
    "#In month 2, we keep all the lease starting from month 2 and leases that start from month 1 but with length larger or equal than 2. \n",
    "#Which is: x_month1_2 + x_month1_3 + x_month1_4 + x_month1_5 + x_month2_1 + x_month2_2 + x_month2_3 + x_month2_4\n",
    "#Month 3: x_month1_3 + x_month1_4 + x_month1_5 + x_month2_2 + x_month2_3 + x_month2_4 + x_month3_1 + x_month3_2 + x_month3_3\n"
   ]
  },
  {
   "cell_type": "code",
   "execution_count": 5,
   "metadata": {},
   "outputs": [
    {
     "data": {
      "text/plain": [
       "Problem A:\n",
       "MINIMIZE\n",
       "300*x_Month1_1 + 525*x_Month1_2 + 775*x_Month1_3 + 850*x_Month1_4 + 975*x_Month1_5 + 300*x_Month2_1 + 525*x_Month2_2 + 775*x_Month2_3 + 850*x_Month2_4 + 300*x_Month3_1 + 525*x_Month3_2 + 775*x_Month3_3 + 300*x_Month4_1 + 525*x_Month4_2 + 300*x_Month5_1 + 0\n",
       "SUBJECT TO\n",
       "_C1: x_Month1_1 + x_Month1_2 + x_Month1_3 + x_Month1_4 + x_Month1_5 >= 25\n",
       "\n",
       "_C2: x_Month1_2 + x_Month1_3 + x_Month1_4 + x_Month1_5 + x_Month2_1\n",
       " + x_Month2_2 + x_Month2_3 + x_Month2_4 >= 10\n",
       "\n",
       "_C3: x_Month1_3 + x_Month1_4 + x_Month1_5 + x_Month2_2 + x_Month2_3\n",
       " + x_Month2_4 + x_Month3_1 + x_Month3_2 + x_Month3_3 >= 20\n",
       "\n",
       "_C4: x_Month1_4 + x_Month1_5 + x_Month2_3 + x_Month2_4 + x_Month3_2\n",
       " + x_Month3_3 + x_Month4_1 + x_Month4_2 >= 10\n",
       "\n",
       "_C5: x_Month1_5 + x_Month2_4 + x_Month3_3 + x_Month4_2 + x_Month5_1 >= 5\n",
       "\n",
       "VARIABLES\n",
       "x_Month1_1 Continuous\n",
       "x_Month1_2 Continuous\n",
       "x_Month1_3 Continuous\n",
       "x_Month1_4 Continuous\n",
       "x_Month1_5 Continuous\n",
       "x_Month2_1 Continuous\n",
       "x_Month2_2 Continuous\n",
       "x_Month2_3 Continuous\n",
       "x_Month2_4 Continuous\n",
       "x_Month3_1 Continuous\n",
       "x_Month3_2 Continuous\n",
       "x_Month3_3 Continuous\n",
       "x_Month4_1 Continuous\n",
       "x_Month4_2 Continuous\n",
       "x_Month5_1 Continuous"
      ]
     },
     "execution_count": 5,
     "metadata": {},
     "output_type": "execute_result"
    }
   ],
   "source": [
    "probA"
   ]
  },
  {
   "cell_type": "markdown",
   "metadata": {},
   "source": [
    "## Step 5: Run solver"
   ]
  },
  {
   "cell_type": "code",
   "execution_count": 6,
   "metadata": {},
   "outputs": [
    {
     "name": "stdout",
     "output_type": "stream",
     "text": [
      "Status: Optimal\n"
     ]
    }
   ],
   "source": [
    "#probA.writeLP(\"Space_lease.lp\") #optional\n",
    "probA.solve()\n",
    "print(\"Status:\",LpStatus[probA.status])"
   ]
  },
  {
   "cell_type": "markdown",
   "metadata": {},
   "source": [
    "## Step 6: Format PuLP Solution Output"
   ]
  },
  {
   "cell_type": "code",
   "execution_count": 7,
   "metadata": {},
   "outputs": [
    {
     "name": "stdout",
     "output_type": "stream",
     "text": [
      "Total cost= 16625.0\n",
      "[[15.0, 0.0, 0.0, 5.0, 5.0], [0.0, 0.0, 0.0, 0.0], [10.0, 0.0, 0.0], [0.0, 0.0], [0.0]]\n"
     ]
    },
    {
     "data": {
      "text/html": [
       "<div>\n",
       "<style scoped>\n",
       "    .dataframe tbody tr th:only-of-type {\n",
       "        vertical-align: middle;\n",
       "    }\n",
       "\n",
       "    .dataframe tbody tr th {\n",
       "        vertical-align: top;\n",
       "    }\n",
       "\n",
       "    .dataframe thead th {\n",
       "        text-align: right;\n",
       "    }\n",
       "</style>\n",
       "<table border=\"1\" class=\"dataframe\">\n",
       "  <thead>\n",
       "    <tr style=\"text-align: right;\">\n",
       "      <th></th>\n",
       "      <th>1</th>\n",
       "      <th>2</th>\n",
       "      <th>3</th>\n",
       "      <th>4</th>\n",
       "      <th>5</th>\n",
       "    </tr>\n",
       "  </thead>\n",
       "  <tbody>\n",
       "    <tr>\n",
       "      <td>Month1</td>\n",
       "      <td>15.0</td>\n",
       "      <td>0.0</td>\n",
       "      <td>0.0</td>\n",
       "      <td>5.0</td>\n",
       "      <td>5.0</td>\n",
       "    </tr>\n",
       "    <tr>\n",
       "      <td>Month2</td>\n",
       "      <td>0.0</td>\n",
       "      <td>0.0</td>\n",
       "      <td>0.0</td>\n",
       "      <td>0.0</td>\n",
       "      <td>NaN</td>\n",
       "    </tr>\n",
       "    <tr>\n",
       "      <td>Month3</td>\n",
       "      <td>10.0</td>\n",
       "      <td>0.0</td>\n",
       "      <td>0.0</td>\n",
       "      <td>NaN</td>\n",
       "      <td>NaN</td>\n",
       "    </tr>\n",
       "    <tr>\n",
       "      <td>Month4</td>\n",
       "      <td>0.0</td>\n",
       "      <td>0.0</td>\n",
       "      <td>NaN</td>\n",
       "      <td>NaN</td>\n",
       "      <td>NaN</td>\n",
       "    </tr>\n",
       "    <tr>\n",
       "      <td>Month5</td>\n",
       "      <td>0.0</td>\n",
       "      <td>NaN</td>\n",
       "      <td>NaN</td>\n",
       "      <td>NaN</td>\n",
       "      <td>NaN</td>\n",
       "    </tr>\n",
       "  </tbody>\n",
       "</table>\n",
       "</div>"
      ],
      "text/plain": [
       "           1    2    3    4    5\n",
       "Month1  15.0  0.0  0.0  5.0  5.0\n",
       "Month2   0.0  0.0  0.0  0.0  NaN\n",
       "Month3  10.0  0.0  0.0  NaN  NaN\n",
       "Month4   0.0  0.0  NaN  NaN  NaN\n",
       "Month5   0.0  NaN  NaN  NaN  NaN"
      ]
     },
     "execution_count": 7,
     "metadata": {},
     "output_type": "execute_result"
    }
   ],
   "source": [
    "print(\"Total cost=\", value(probA.objective))\n",
    "output=[]\n",
    "\n",
    "for i in range(len(Starting_month)):\n",
    "    var_output=[]\n",
    "    for k in Length_of_lease[0:5-i]:\n",
    "        var_output.append(Space_lease_vars[Starting_month[i]][k].varValue)\n",
    "        \n",
    "    output.append(var_output)\n",
    "    \n",
    "print(output)\n",
    "output_df = pd.DataFrame(output,index=Starting_month,columns=Length_of_lease)\n",
    "output_df"
   ]
  },
  {
   "cell_type": "code",
   "execution_count": null,
   "metadata": {},
   "outputs": [],
   "source": []
  }
 ],
 "metadata": {
  "kernelspec": {
   "display_name": "Python 3",
   "language": "python",
   "name": "python3"
  },
  "language_info": {
   "codemirror_mode": {
    "name": "ipython",
    "version": 3
   },
   "file_extension": ".py",
   "mimetype": "text/x-python",
   "name": "python",
   "nbconvert_exporter": "python",
   "pygments_lexer": "ipython3",
   "version": "3.7.3"
  }
 },
 "nbformat": 4,
 "nbformat_minor": 2
}
