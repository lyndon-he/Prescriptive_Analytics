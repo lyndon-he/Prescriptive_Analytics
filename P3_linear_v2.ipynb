{
 "cells": [
  {
   "cell_type": "markdown",
   "metadata": {},
   "source": [
    "# Mathematical Formulation\n",
    "**Decision Variables:**\n",
    "$$\n",
    "X_{ij} = \\text{Square feet (in 1000s) leased at beginning of month} i \\text{for} j \\text{months}\\\\\n",
    "$$\n",
    "\n",
    "**Objective**\n",
    "\n",
    "$$ \\text{Minimize  } \t300 (X_{11} + X_{21} + X_{31} + X_{41} + X_{51}) + 525 (X_{12} + X_{22} + X_{32} + X_{42} ) + 775 (X_{13} + X_{23} + X_{33} )+ 850 (X_{14} + X_{24}) + 975 X_{15} \n",
    "$$\n",
    "**Constraints**\n",
    "$$\\text{month 1: } X_{11} + X_{12} + X_{13} + X_{14} + X_{15} > 25\\\\\n",
    "\\text{month 2: } X_{21} + X_{22} + X_{23} + X_{24} + X_{12} + X_{13} + X_{14} + X_{15} > 10 \\\\\n",
    "\\text{month 3: } X_{31} + X_{32} + X_{33} + X_{22} + X_{23} + X_{24} + X_{13} + X_{14} + X_{15} > 20 \\\\\n",
    "\\text{month 4: }X_{41} + X_{42} + X_{32} + X_{33} + X_{23} + X_{24} + X_{14} + X_{15} > 10 \\\\\n",
    "\\text{month 5: } X_{51} + X_{42} + X_{33} + X_{24}  + X_{15} > 5 \\\\\n",
    "\t\t\tX_{ij} > 0\n",
    "$$\n",
    "<img src=\"Picture1.png\">"
   ]
  },
  {
   "cell_type": "code",
   "execution_count": 4,
   "metadata": {},
   "outputs": [],
   "source": [
    "from pulp import *\n",
    "import pandas as pd"
   ]
  },
  {
   "cell_type": "code",
   "execution_count": 5,
   "metadata": {},
   "outputs": [
    {
     "data": {
      "text/plain": [
       "{(1, 1): x_(1,_1),\n",
       " (1, 2): x_(1,_2),\n",
       " (1, 3): x_(1,_3),\n",
       " (1, 4): x_(1,_4),\n",
       " (1, 5): x_(1,_5),\n",
       " (2, 1): x_(2,_1),\n",
       " (2, 2): x_(2,_2),\n",
       " (2, 3): x_(2,_3),\n",
       " (2, 4): x_(2,_4),\n",
       " (3, 1): x_(3,_1),\n",
       " (3, 2): x_(3,_2),\n",
       " (3, 3): x_(3,_3),\n",
       " (4, 1): x_(4,_1),\n",
       " (4, 2): x_(4,_2),\n",
       " (5, 1): x_(5,_1)}"
      ]
     },
     "execution_count": 5,
     "metadata": {},
     "output_type": "execute_result"
    }
   ],
   "source": [
    "probA=LpProblem(\"Problem A\",LpMinimize)\n",
    "#Constraint and Decision Variable\n",
    "Starting_month = [1,2,3,4,5]\n",
    "Length_of_lease = [1,2,3,4,5]\n",
    "Demand = [25,10,20,10,5]\n",
    "Demand = dict(zip(Starting_month,Demand))\n",
    "Cost = [300,525,775,850,975]\n",
    "Cost = dict(zip(Length_of_lease, Cost))\n",
    "\n",
    "#Define decision variables with the starting month and lease length. \n",
    "#Starting from month 1, we have leases with 5 length. From month 2, we have 4. ... From month 5, we have only 1. \n",
    "\n",
    "combination = [(i,j) for i in Starting_month for j in range(1,7-i)]\n",
    "\n",
    "Space_lease_vars = LpVariable.dicts(\"x\",combination,lowBound=0,cat='Continuous')\n",
    "#for i in range(len(Starting_month)):\n",
    "#    if i==0:\n",
    "#        Space_lease_vars = LpVariable.dicts(\"x\",(Starting_month[i:i+1],Length_of_lease[0:5-i]),lowBound=0,cat='Continuous')\n",
    "#    else:\n",
    "#        Space_lease_vars.update(LpVariable.dicts(\"x\",(Starting_month[i:i+1],Length_of_lease[0:5-i]),lowBound=0,cat='Continuous'))\n",
    "\n",
    "Space_lease_vars"
   ]
  },
  {
   "cell_type": "markdown",
   "metadata": {},
   "source": [
    "## Step 4: Define objective and constraints using += operator and lpSum\n",
    "- **lpSum(vector)** calculates the sum of a list of linear expressions. \n",
    "- The parameter is a list of linear expressions\n",
    "\n",
    "- **Constraints**: (Cover space requirement of each month)\n",
    "- x_month1_1 + x_month1_2 + x_month1_3 + x_month1_4 + x_month1_5 >= 25\n",
    "- x_month1_2 + x_month1_3 + x_month1_4 + x_month1_5 + x_month2_1 + x_month2_2 + x_month2_3 + x_month2_4 >= 10\n",
    "- x_month1_3 + x_month1_4 + x_month1_5 + x_month2_2 + x_month2_3+ x_month2_4 + x_month3_1 + x_month3_2 + x_month3_3 >= 20\n",
    "- x_month1_4 + x_month1_5 + x_month2_3 + x_month2_4 + x_month3_2 + x_month3_3 + x_month4_1 + x_month4_2 >= 10\n",
    "- x_month1_5 + x_month2_4 + x_month3_3 + x_month4_2 + x_month5_1 >= 5\n",
    "\n"
   ]
  },
  {
   "cell_type": "code",
   "execution_count": 6,
   "metadata": {},
   "outputs": [],
   "source": [
    "# Objective Function\n",
    "\n",
    "probA+=lpSum(Space_lease_vars[(i,j)]*Cost[j] for j in Length_of_lease for i in range(1,7-j))\n",
    "#Minimize the total cost of all the leases. \n",
    "\n",
    "#Demand constraint\n",
    "for i in Starting_month:\n",
    "    probA += lpSum(Space_lease_vars[(j,k)] for j in range(1,i+1) for k in range(i+1-j,7-j) ) >= Demand[i]\n",
    "# range(1,i+1) describes how many months we need to consider in each starting month (all the months before). \n",
    "# range (i+1-j,7-j) describes what are the leases we need to look at.\n",
    "#For each starting month i, we keep all the lease that start from this month and other leases that cover this month. \n",
    "#For example, in month 1, we keep all the lease starting from month 1. Which is: x_month1_1 + x_month1_2 + x_month1_3 + x_month1_4 + x_month1_5\n",
    "#In month 2, we keep all the lease starting from month 2 and leases that start from month 1 but with length larger or equal than 2. \n",
    "#Which is: x_month1_2 + x_month1_3 + x_month1_4 + x_month1_5 + x_month2_1 + x_month2_2 + x_month2_3 + x_month2_4\n",
    "#Month 3: x_month1_3 + x_month1_4 + x_month1_5 + x_month2_2 + x_month2_3 + x_month2_4 + x_month3_1 + x_month3_2 + x_month3_3\n"
   ]
  },
  {
   "cell_type": "code",
   "execution_count": 7,
   "metadata": {},
   "outputs": [
    {
     "data": {
      "text/plain": [
       "Problem A:\n",
       "MINIMIZE\n",
       "300*x_(1,_1) + 525*x_(1,_2) + 775*x_(1,_3) + 850*x_(1,_4) + 975*x_(1,_5) + 300*x_(2,_1) + 525*x_(2,_2) + 775*x_(2,_3) + 850*x_(2,_4) + 300*x_(3,_1) + 525*x_(3,_2) + 775*x_(3,_3) + 300*x_(4,_1) + 525*x_(4,_2) + 300*x_(5,_1) + 0\n",
       "SUBJECT TO\n",
       "_C1: x_(1,_1) + x_(1,_2) + x_(1,_3) + x_(1,_4) + x_(1,_5) >= 25\n",
       "\n",
       "_C2: x_(1,_2) + x_(1,_3) + x_(1,_4) + x_(1,_5) + x_(2,_1) + x_(2,_2)\n",
       " + x_(2,_3) + x_(2,_4) >= 10\n",
       "\n",
       "_C3: x_(1,_3) + x_(1,_4) + x_(1,_5) + x_(2,_2) + x_(2,_3) + x_(2,_4)\n",
       " + x_(3,_1) + x_(3,_2) + x_(3,_3) >= 20\n",
       "\n",
       "_C4: x_(1,_4) + x_(1,_5) + x_(2,_3) + x_(2,_4) + x_(3,_2) + x_(3,_3)\n",
       " + x_(4,_1) + x_(4,_2) >= 10\n",
       "\n",
       "_C5: x_(1,_5) + x_(2,_4) + x_(3,_3) + x_(4,_2) + x_(5,_1) >= 5\n",
       "\n",
       "VARIABLES\n",
       "x_(1,_1) Continuous\n",
       "x_(1,_2) Continuous\n",
       "x_(1,_3) Continuous\n",
       "x_(1,_4) Continuous\n",
       "x_(1,_5) Continuous\n",
       "x_(2,_1) Continuous\n",
       "x_(2,_2) Continuous\n",
       "x_(2,_3) Continuous\n",
       "x_(2,_4) Continuous\n",
       "x_(3,_1) Continuous\n",
       "x_(3,_2) Continuous\n",
       "x_(3,_3) Continuous\n",
       "x_(4,_1) Continuous\n",
       "x_(4,_2) Continuous\n",
       "x_(5,_1) Continuous"
      ]
     },
     "execution_count": 7,
     "metadata": {},
     "output_type": "execute_result"
    }
   ],
   "source": [
    "probA"
   ]
  },
  {
   "cell_type": "markdown",
   "metadata": {},
   "source": [
    "## Step 5: Run solver"
   ]
  },
  {
   "cell_type": "code",
   "execution_count": 8,
   "metadata": {},
   "outputs": [
    {
     "name": "stdout",
     "output_type": "stream",
     "text": [
      "Status: Optimal\n"
     ]
    }
   ],
   "source": [
    "#probA.writeLP(\"Space_lease.lp\") #optional\n",
    "probA.solve()\n",
    "print(\"Status:\",LpStatus[probA.status])"
   ]
  },
  {
   "cell_type": "markdown",
   "metadata": {},
   "source": [
    "## Step 6: Format PuLP Solution Output"
   ]
  },
  {
   "cell_type": "code",
   "execution_count": 10,
   "metadata": {},
   "outputs": [
    {
     "name": "stdout",
     "output_type": "stream",
     "text": [
      "Total cost= 16625.0\n",
      "[[15.0, 0.0, 0.0, 5.0, 5.0], [0.0, 0.0, 0.0, 0.0], [10.0, 0.0, 0.0], [0.0, 0.0], [0.0]]\n"
     ]
    },
    {
     "data": {
      "text/html": [
       "<div>\n",
       "<style scoped>\n",
       "    .dataframe tbody tr th:only-of-type {\n",
       "        vertical-align: middle;\n",
       "    }\n",
       "\n",
       "    .dataframe tbody tr th {\n",
       "        vertical-align: top;\n",
       "    }\n",
       "\n",
       "    .dataframe thead th {\n",
       "        text-align: right;\n",
       "    }\n",
       "</style>\n",
       "<table border=\"1\" class=\"dataframe\">\n",
       "  <thead>\n",
       "    <tr style=\"text-align: right;\">\n",
       "      <th></th>\n",
       "      <th>1</th>\n",
       "      <th>2</th>\n",
       "      <th>3</th>\n",
       "      <th>4</th>\n",
       "      <th>5</th>\n",
       "    </tr>\n",
       "  </thead>\n",
       "  <tbody>\n",
       "    <tr>\n",
       "      <th>1</th>\n",
       "      <td>15.0</td>\n",
       "      <td>0.0</td>\n",
       "      <td>0.0</td>\n",
       "      <td>5.0</td>\n",
       "      <td>5.0</td>\n",
       "    </tr>\n",
       "    <tr>\n",
       "      <th>2</th>\n",
       "      <td>0.0</td>\n",
       "      <td>0.0</td>\n",
       "      <td>0.0</td>\n",
       "      <td>0.0</td>\n",
       "      <td>NaN</td>\n",
       "    </tr>\n",
       "    <tr>\n",
       "      <th>3</th>\n",
       "      <td>10.0</td>\n",
       "      <td>0.0</td>\n",
       "      <td>0.0</td>\n",
       "      <td>NaN</td>\n",
       "      <td>NaN</td>\n",
       "    </tr>\n",
       "    <tr>\n",
       "      <th>4</th>\n",
       "      <td>0.0</td>\n",
       "      <td>0.0</td>\n",
       "      <td>NaN</td>\n",
       "      <td>NaN</td>\n",
       "      <td>NaN</td>\n",
       "    </tr>\n",
       "    <tr>\n",
       "      <th>5</th>\n",
       "      <td>0.0</td>\n",
       "      <td>NaN</td>\n",
       "      <td>NaN</td>\n",
       "      <td>NaN</td>\n",
       "      <td>NaN</td>\n",
       "    </tr>\n",
       "  </tbody>\n",
       "</table>\n",
       "</div>"
      ],
      "text/plain": [
       "      1    2    3    4    5\n",
       "1  15.0  0.0  0.0  5.0  5.0\n",
       "2   0.0  0.0  0.0  0.0  NaN\n",
       "3  10.0  0.0  0.0  NaN  NaN\n",
       "4   0.0  0.0  NaN  NaN  NaN\n",
       "5   0.0  NaN  NaN  NaN  NaN"
      ]
     },
     "execution_count": 10,
     "metadata": {},
     "output_type": "execute_result"
    }
   ],
   "source": [
    "print(\"Total cost=\", value(probA.objective))\n",
    "output=[]\n",
    "\n",
    "for i in Starting_month:\n",
    "    var_output=[]\n",
    "    for k in Length_of_lease[0:6-i]:\n",
    "        var_output.append(Space_lease_vars[(i,k)].varValue)\n",
    "        \n",
    "    output.append(var_output)\n",
    "    \n",
    "print(output)\n",
    "output_df = pd.DataFrame(output,index=Starting_month,columns=Length_of_lease)\n",
    "output_df"
   ]
  },
  {
   "cell_type": "code",
   "execution_count": null,
   "metadata": {},
   "outputs": [],
   "source": []
  }
 ],
 "metadata": {
  "kernelspec": {
   "display_name": "Python 3",
   "language": "python",
   "name": "python3"
  },
  "language_info": {
   "codemirror_mode": {
    "name": "ipython",
    "version": 3
   },
   "file_extension": ".py",
   "mimetype": "text/x-python",
   "name": "python",
   "nbconvert_exporter": "python",
   "pygments_lexer": "ipython3",
   "version": "3.7.4"
  }
 },
 "nbformat": 4,
 "nbformat_minor": 2
}
